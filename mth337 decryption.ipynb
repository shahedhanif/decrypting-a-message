{
 "cells": [
  {
   "cell_type": "markdown",
   "id": "308da6eb",
   "metadata": {},
   "source": [
    "# Decrypting a Message\n",
    "\n",
    "Shahed Hanif"
   ]
  },
  {
   "cell_type": "code",
   "execution_count": 109,
   "id": "c1f4fd71",
   "metadata": {},
   "outputs": [
    {
     "data": {
      "text/plain": [
       "12"
      ]
     },
     "execution_count": 109,
     "metadata": {},
     "output_type": "execute_result"
    }
   ],
   "source": [
    "50301462%30"
   ]
  },
  {
   "cell_type": "markdown",
   "id": "ede83673",
   "metadata": {},
   "source": [
    "Decrypting `text12.txt` using `dictionary.txt` and Python functions."
   ]
  },
  {
   "cell_type": "markdown",
   "id": "1191647b",
   "metadata": {},
   "source": [
    "## Packages"
   ]
  },
  {
   "cell_type": "code",
   "execution_count": 110,
   "id": "04f80c50",
   "metadata": {},
   "outputs": [],
   "source": [
    "import numpy as np"
   ]
  },
  {
   "cell_type": "markdown",
   "id": "63403d5e",
   "metadata": {},
   "source": [
    "## Decryption"
   ]
  },
  {
   "cell_type": "markdown",
   "id": "bc2edb21",
   "metadata": {},
   "source": [
    "Create a function that takes the encrypted text and specific c-value as input and returns the decrypted text."
   ]
  },
  {
   "cell_type": "code",
   "execution_count": 87,
   "id": "ebdabc2c",
   "metadata": {},
   "outputs": [],
   "source": [
    "# Function to decrypt an encrypted text using a given c value\n",
    "def decrypt_text(encrypted_text, c):\n",
    "    n = len(encrypted_text) // c\n",
    "    remainder = len(encrypted_text) % c\n",
    "    # Create the transposed array by slicing the encrypted text into rows\n",
    "    rows = [encrypted_text[i * n + min(i, remainder):(i + 1) * n + min(i + 1, remainder)] for i in range(c)]\n",
    "\n",
    "    decrypted_text = []\n",
    "    # Iterate through the transposed array and append each character in the correct order\n",
    "    for i in range(n):\n",
    "        for row in rows:\n",
    "            if len(row) > i:\n",
    "                decrypted_text.append(row[i])\n",
    "\n",
    "    return ''.join(decrypted_text)"
   ]
  },
  {
   "cell_type": "code",
   "execution_count": 88,
   "id": "abc2e3bd",
   "metadata": {
    "scrolled": true
   },
   "outputs": [
    {
     "data": {
      "text/plain": [
       "'Lrkeu I,am your fathe'"
      ]
     },
     "execution_count": 88,
     "metadata": {},
     "output_type": "execute_result"
    }
   ],
   "source": [
    "decrypt_text('LeImo tru, ufhk ayrae',3)"
   ]
  },
  {
   "cell_type": "markdown",
   "id": "b0acd055",
   "metadata": {},
   "source": [
    "### Parse Words and Text"
   ]
  },
  {
   "cell_type": "markdown",
   "id": "aa38df52",
   "metadata": {},
   "source": [
    "After we decrypt using a certain c-value we must have the ability to check whether our decryption was successful, the `FileToWords()` function will allow us to turn the dictionary file into a word list and the `TextToWords()` file will allow us to turn the decrypted text into another word list. Then, the words in the dictionary will be compared to the words in the decrypted text file."
   ]
  },
  {
   "cell_type": "code",
   "execution_count": 8,
   "id": "2ccf0ae3",
   "metadata": {},
   "outputs": [],
   "source": [
    "# Function to read a text file and convert its content into a list of words\n",
    "def FileToWords(file):\n",
    "    with open(file) as f:\n",
    "        text = f.read()\n",
    "    text_list = text.upper().split()\n",
    "    word_list = []\n",
    "    # Remove any punctuation from each word\n",
    "    for string in text_list:\n",
    "        word_list.append(string.strip(',.!?-\\'\\\":;'))\n",
    "    return word_list"
   ]
  },
  {
   "cell_type": "code",
   "execution_count": 106,
   "id": "af41cad2",
   "metadata": {},
   "outputs": [],
   "source": [
    "# Function to convert a text string into a list of words\n",
    "def TextToWords(text):\n",
    "    text_list = text.upper().split()\n",
    "    word_list = []\n",
    "    # Remove any punctuation from each word\n",
    "    for string in text_list:\n",
    "        word_list.append(string.strip(',.!?-\\'\\\":;'))\n",
    "    return word_list"
   ]
  },
  {
   "cell_type": "markdown",
   "id": "a60d9ebb",
   "metadata": {},
   "source": [
    "### Dictionary"
   ]
  },
  {
   "cell_type": "markdown",
   "id": "480c5f3c",
   "metadata": {},
   "source": [
    "Store the list of words in the `dictionary.txt` file in `dictionary_wordlist` for efficiency. The function `WordRatio` gives us the percentage of words in the decrypted text that are in the dictionary."
   ]
  },
  {
   "cell_type": "code",
   "execution_count": 99,
   "id": "b6f5acd6",
   "metadata": {},
   "outputs": [],
   "source": [
    "dictionary_wordlist = FileToWords('dictionary.txt')"
   ]
  },
  {
   "cell_type": "code",
   "execution_count": 100,
   "id": "1e8f67c6",
   "metadata": {},
   "outputs": [],
   "source": [
    "# Function to calculate the word ratio of a decrypted text against the dictionary\n",
    "def WordRatio(decrypted_text):\n",
    "    decrypted_wordlist = TextToWords(decrypted_text)\n",
    "\n",
    "    matched_words = 0\n",
    "    # Check if each word in the decrypted wordlist is present in the dictionary\n",
    "    for word in decrypted_wordlist:\n",
    "        if word in dictionary_wordlist:\n",
    "            matched_words += 1\n",
    "\n",
    "    return (matched_words / len(decrypted_wordlist)) * 100"
   ]
  },
  {
   "cell_type": "code",
   "execution_count": 101,
   "id": "d91ba789",
   "metadata": {},
   "outputs": [
    {
     "data": {
      "text/plain": [
       "25.0"
      ]
     },
     "execution_count": 101,
     "metadata": {},
     "output_type": "execute_result"
    }
   ],
   "source": [
    "example = decrypt_text('LeImo tru, ufhk ayrae',3)\n",
    "WordRatio(example)"
   ]
  },
  {
   "cell_type": "markdown",
   "id": "0fe9e6f3",
   "metadata": {},
   "source": [
    "### Decrypt"
   ]
  },
  {
   "cell_type": "markdown",
   "id": "a18e7b78",
   "metadata": {},
   "source": [
    "The function `decrypt()` takes as input an encrypted text file and iterates through the c values within the interval [25,100] and finds the c value that returns the decrypted text, highest word ratio, and the respective c value."
   ]
  },
  {
   "cell_type": "code",
   "execution_count": 107,
   "id": "67287820",
   "metadata": {},
   "outputs": [],
   "source": [
    "# Function to decrypt an encrypted text file and find the best c value to maximize the word ratio\n",
    "def decrypt(file):\n",
    "    with open(file) as f:\n",
    "        encrypted_text = f.read()\n",
    "\n",
    "    max_word_ratio = 0\n",
    "    best_c = 0\n",
    "\n",
    "    # Iterate through c values from 25 to 100 (inclusive)\n",
    "    for c in range(25, 101):\n",
    "        decrypted_text = decrypt_text(encrypted_text, c)\n",
    "        word_ratio = WordRatio(decrypted_text)\n",
    "\n",
    "        # Update the maximum word ratio and best c value if a higher word ratio is found\n",
    "        if word_ratio > max_word_ratio:\n",
    "            max_word_ratio = word_ratio\n",
    "            best_c = c\n",
    "\n",
    "    # Decrypt the encrypted text using the best c value\n",
    "    best_decryption = decrypt_text(encrypted_text, best_c)\n",
    "    return print(best_decryption), max_word_ratio, best_c"
   ]
  },
  {
   "cell_type": "code",
   "execution_count": 108,
   "id": "23f80d60",
   "metadata": {
    "scrolled": true
   },
   "outputs": [
    {
     "name": "stdout",
     "output_type": "stream",
     "text": [
      "Wn house, havinture was at ay fresh air.  back out of mrs already deng\n",
      "occasion foae\n",
      "tower, and The emperor whorseback towscended from thhad like to  advancing on  ear; for theards me, whichdvery well trhave cost\n",
      "him  ly unused to beast, thoughlwhich appearained, yet who tain moved b\n",
      "such a sight,ned up\n",
      "on itsed as if a mourut that prinefore him, reabxcellent hor hinder feet: e seat, till ce, who is an sran in, and seman, kept\n",
      "hi , while his\n",
      "his attendantsee to dismounheld the bridlmghted, he sumajesty had tii\n",
      "with great t.  When he ald kept beyondrveyed me rountmy chain.  Hadmiration; bu ooks and but the length ofcalready prepe\n",
      "ordered his  e\n",
      "victuals alers, who werem they pushedared, to give hort of vehicnd drink, whics, till I cou forward in a s I took thesles upon\n",
      "wheel soon emptiedld reach them. ty of them we vehicles andn meat, and t\n",
      "them all; tweh each\n",
      "of theere filled wit;d me two or en with liquorehfuls; and I former affordtquor of ten three good mouiwas containe emptied the\n",
      "l als, into onvessels, whichiking it off d in earthen vnnd so I did e\n",
      "vehicle, dria The\n",
      "empressat a draught;  nces of the with the rest.iexes, attend, and young prses, sat at sblood of both i their chaired by many\n",
      "ladn accident thome distance iethe emperorâs; but upon th lighted, an€at\n",
      "happened toaperson,\n",
      "whi™s horse, they  g to descrid came near hisnr by almostch I am now goiemy nail, thbe.  He is tall\n",
      "urt; which  the breadth ofoto strike aan any of his c eholders.  alone is enoughb strong andn awe\n",
      "into the e an\n",
      "AustriaHis features arh nose, his  masculine, witd, his countn lip and archees body and complexion olivirtioned, alenance\n",
      "erect, hoaceful,\n",
      "andlimbs well proprmajestic.  l his motions g  his prime, his deportmenttght years aHe was then pasis old, of w being\n",
      "twenty-erned about\n",
      "snd three quarteglicity, andhich he had reierious.  Foreven in great foenience of  generally victv lay on my  the better\n",
      "conI face was\n",
      "pbeholding him, yand he stooside, so that m s off: howearallel to his,dhim since md but three yar\n",
      "hand, and tver, I have had be deceivedany times in my ion.  His dherefore cannottain and sim in the\n",
      "descriplhion of it\n",
      "ress was very pstic and theple, and the faae had on hibetween the Asihelmet of go European; but h jewels, ans head a light\n",
      "h crest.  Held, adorned witedrawn in hid a plume on th  himself, i held\n",
      "his sworddn to\n",
      "break s hand to defenemost three f I should happl hilt and sloose; it was aed enriched inches long; thln this advecabbard were\n",
      "goeend, I camewith diamonds.\n"
     ]
    },
    {
     "data": {
      "text/plain": [
       "(None, 66.74157303370787, 27)"
      ]
     },
     "execution_count": 108,
     "metadata": {},
     "output_type": "execute_result"
    }
   ],
   "source": [
    "decrypt('text12.txt')"
   ]
  },
  {
   "cell_type": "markdown",
   "id": "979f0afe",
   "metadata": {},
   "source": [
    "The text is not fully decrypted, however we can get an idea about what it is trying to say."
   ]
  }
 ],
 "metadata": {
  "kernelspec": {
   "display_name": "Python 3 (ipykernel)",
   "language": "python",
   "name": "python3"
  },
  "language_info": {
   "codemirror_mode": {
    "name": "ipython",
    "version": 3
   },
   "file_extension": ".py",
   "mimetype": "text/x-python",
   "name": "python",
   "nbconvert_exporter": "python",
   "pygments_lexer": "ipython3",
   "version": "3.9.13"
  }
 },
 "nbformat": 4,
 "nbformat_minor": 5
}
